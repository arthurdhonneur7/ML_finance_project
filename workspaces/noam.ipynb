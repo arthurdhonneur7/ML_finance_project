{
 "cells": [
  {
   "cell_type": "code",
   "execution_count": 130,
   "metadata": {},
   "outputs": [],
   "source": [
    "import numpy as np\n",
    "import pandas as pd\n",
    "import matplotlib.pyplot as plt\n",
    "from pathlib import Path\n",
    "import tensorflow as tf\n",
    "from tensorflow.keras import layers, models\n",
    "from sklearn.preprocessing import StandardScaler\n",
    "from tensorflow.keras.layers import  Dense\n",
    "from tensorflow.keras.optimizers import Adam"
   ]
  },
  {
   "cell_type": "markdown",
   "metadata": {},
   "source": [
    "## First part: Training the model"
   ]
  },
  {
   "cell_type": "markdown",
   "metadata": {},
   "source": [
    "### 1) Hyperparameters & data loading"
   ]
  },
  {
   "cell_type": "code",
   "execution_count": 131,
   "metadata": {},
   "outputs": [],
   "source": [
    "SEQ_LEN    = 64\n",
    "\n",
    "FEATURES = [\n",
    "    \"DAY_OF_THE_WEEK\",\"HOUR_OF_DAY\",\"LOG_RETURN\",\n",
    "    \"vol_20\",\"vol_60\",\"sr_20\",\"mean_20\",\n",
    "    \"zscore_20\",\"zscore_60\",\"log_momentum_20\",\"log_momentum_60\",\n",
    "    \"bb_upper_20\",\"bb_lower_20\",\"mdd_20\",\"ema_12\",\"ema_26\",\n",
    "    \"macd\",\"macd_signal\",\"macd_hist\"\n",
    "]\n",
    "\n",
    "BATCH_SIZE = 32\n",
    "EPOCHS     = 60\n",
    "LR         = 1e-3"
   ]
  },
  {
   "cell_type": "code",
   "execution_count": 132,
   "metadata": {},
   "outputs": [
    {
     "name": "stdout",
     "output_type": "stream",
     "text": [
      "479\n"
     ]
    }
   ],
   "source": [
    "PATH_TO_CSV = Path(\"../data_clean/processed_data_with_features.csv\")\n",
    "df = pd.read_csv(PATH_TO_CSV)\n",
    "df[\"DATETIME\"] = pd.to_datetime(df[\"DATETIME\"])\n",
    "df = df.sort_values([\"SYMBOL\",\"DATETIME\"]).reset_index(drop=True)\n",
    "\n",
    "df['RET_10MIN'] = df.groupby('SYMBOL')['LOG_RETURN'].shift(-1)\n",
    "\n",
    "df = df.dropna(subset=FEATURES + ['RET_10MIN'])\n",
    "\n",
    "df[\"DAY_OF_THE_WEEK\"] = df[\"DATETIME\"].dt.dayofweek\n",
    "df[\"HOUR_OF_DAY\"]     = df[\"DATETIME\"].dt.hour\n",
    "\n",
    "df.head()\n",
    "print(df[\"SYMBOL\"].nunique())"
   ]
  },
  {
   "cell_type": "markdown",
   "metadata": {},
   "source": [
    "### 2) Build sliding windows per symbol, recording symbols"
   ]
  },
  {
   "cell_type": "code",
   "execution_count": 133,
   "metadata": {},
   "outputs": [],
   "source": [
    "X_list, y_list, rets_list, sym_list, time_list = [], [], [], [], []\n",
    "\n",
    "for sym, group in df.groupby('SYMBOL'):\n",
    "    vals     = group[FEATURES].values   \n",
    "    ret_vals = group['RET_10MIN'].values  \n",
    "    times    = group['DATETIME'].values  \n",
    "    n_bars   = len(group)\n",
    "\n",
    "    for i in range(n_bars - SEQ_LEN):\n",
    "\n",
    "        # Input sequence: past SEQ_LEN bars of features\n",
    "        X_list.append(vals[i : i + SEQ_LEN])\n",
    "\n",
    "        # Regression target (10-min ahead log-return)\n",
    "        y_list.append(1 if ret_vals[i + SEQ_LEN - 1] > 0 else 0)\n",
    "\n",
    "        # Also store raw return for backtest later\n",
    "        rets_list.append(ret_vals[i + SEQ_LEN - 1])\n",
    "\n",
    "        # Symbol and timestamp for each sample\n",
    "        sym_list.append(sym)\n",
    "        time_list.append(times[i + SEQ_LEN])\n",
    "\n",
    "# Convert lists to numpy arrays\n",
    "X       = np.stack(X_list)                      # shape: (n_samples, SEQ_LEN, n_features)\n",
    "y       = np.array(y_list)                      # shape: (n_samples,)\n",
    "rets    = np.array(rets_list)                   # shape: (n_samples,) \n",
    "symbols = np.array(sym_list)                    # shape: (n_samples,)\n",
    "times   = pd.to_datetime(time_list)             # shape: (n_samples,)\n",
    "\n",
    "\n",
    "del X_list, y_list, sym_list, time_list"
   ]
  },
  {
   "cell_type": "markdown",
   "metadata": {},
   "source": [
    "### 3) Convert regression target to binary up/down"
   ]
  },
  {
   "cell_type": "code",
   "execution_count": 134,
   "metadata": {},
   "outputs": [],
   "source": [
    "# 1 if return > 0, else 0\n",
    "y_class = (y > 0).astype(int)"
   ]
  },
  {
   "cell_type": "markdown",
   "metadata": {},
   "source": [
    "### 4) Time-based train/test split"
   ]
  },
  {
   "cell_type": "code",
   "execution_count": 135,
   "metadata": {},
   "outputs": [],
   "source": [
    "# Sort by timestamp and split 50/50\n",
    "idx_sorted = np.argsort(times)\n",
    "split      = int(len(times) * 0.5)\n",
    "idx_train  = idx_sorted[:split]\n",
    "idx_test   = idx_sorted[split:]\n",
    "\n",
    "\n",
    "X_train, X_test       = X[idx_train],       X[idx_test]\n",
    "y_train, y_test       = y_class[idx_train], y_class[idx_test]\n",
    "rets_train, rets_test = rets[idx_train],    rets[idx_test]\n",
    "symbols_train, symbols_test = symbols[idx_train], symbols[idx_test]\n",
    "times_train,   times_test   = times[idx_train],   times[idx_test]\n",
    "\n"
   ]
  },
  {
   "cell_type": "markdown",
   "metadata": {},
   "source": [
    "### 5) Scale features per timestep"
   ]
  },
  {
   "cell_type": "code",
   "execution_count": 136,
   "metadata": {},
   "outputs": [],
   "source": [
    "ns, sl, nf = X_train.shape\n",
    "scaler = StandardScaler().fit(X_train.reshape(-1, nf))\n",
    "X_train = scaler.transform(X_train.reshape(-1, nf)).reshape(ns, sl, nf)\n",
    "X_test  = scaler.transform(X_test.reshape(-1, nf)).reshape(-1, sl, nf)"
   ]
  },
  {
   "cell_type": "markdown",
   "metadata": {},
   "source": [
    "### 6) Build TCN classifier"
   ]
  },
  {
   "cell_type": "code",
   "execution_count": 137,
   "metadata": {},
   "outputs": [],
   "source": [
    "def build_tcn(seq_len, n_features,\n",
    "              num_levels=3, num_filters=64,\n",
    "              kernel_size=5, dropout=0.3):\n",
    "    \"\"\"\n",
    "    Construct a Temporal Convolutional Network (TCN) for binary classification.\n",
    "\n",
    "    This function builds the TCN by stacking causal 1D convolutions\n",
    "    with exponentially increasing dilation rates, followed by global\n",
    "    average pooling and a sigmoid output layer.\n",
    "\n",
    "    Parameters\n",
    "    ----------\n",
    "    seq_len : int\n",
    "        Length of the input sequence (number of time steps).\n",
    "    n_features : int\n",
    "        Number of features per time step.\n",
    "    num_levels : int, optional (default=3)\n",
    "        Number of convolutional blocks (levels) to stack.\n",
    "    num_filters : int, optional (default=64)\n",
    "        Number of filters (channels) in each Conv1D layer.\n",
    "    kernel_size : int, optional (default=5)\n",
    "        Width of the convolutional kernel.\n",
    "    dropout : float, optional (default=0.3)\n",
    "        Dropout rate applied after each Conv1D block.\n",
    "\n",
    "    Returns\n",
    "    -------\n",
    "    model : keras.Model\n",
    "        Model with sigmoid output.\n",
    "    \"\"\"\n",
    "\n",
    "    inp = layers.Input(shape=(seq_len, n_features))\n",
    "    x = inp\n",
    "    for i in range(num_levels):\n",
    "        x = layers.Conv1D(num_filters, kernel_size,\n",
    "                          padding='causal',\n",
    "                          dilation_rate=2**i,\n",
    "                          activation='relu')(x)\n",
    "        x = layers.Dropout(dropout)(x)\n",
    "\n",
    "    x = layers.GlobalAveragePooling1D()(x)\n",
    "    out = Dense(1, activation='sigmoid')(x)\n",
    "    return models.Model(inp, out)\n",
    "\n",
    "model = build_tcn(SEQ_LEN, nf)\n",
    "\n",
    "model.compile(\n",
    "    optimizer=Adam(LR),\n",
    "    loss='binary_crossentropy',\n",
    "    metrics=['accuracy']\n",
    ")\n"
   ]
  },
  {
   "cell_type": "markdown",
   "metadata": {},
   "source": [
    "## Second part: Training the model"
   ]
  },
  {
   "cell_type": "markdown",
   "metadata": {},
   "source": [
    "### 7) Train model"
   ]
  },
  {
   "cell_type": "code",
   "execution_count": 138,
   "metadata": {},
   "outputs": [
    {
     "name": "stdout",
     "output_type": "stream",
     "text": [
      "Epoch 1/60\n",
      "\u001b[1m4237/4237\u001b[0m \u001b[32m━━━━━━━━━━━━━━━━━━━━\u001b[0m\u001b[37m\u001b[0m \u001b[1m21s\u001b[0m 5ms/step - accuracy: 0.5077 - loss: 0.6938 - val_accuracy: 0.4694 - val_loss: 0.6968\n",
      "Epoch 2/60\n",
      "\u001b[1m4237/4237\u001b[0m \u001b[32m━━━━━━━━━━━━━━━━━━━━\u001b[0m\u001b[37m\u001b[0m \u001b[1m20s\u001b[0m 5ms/step - accuracy: 0.5280 - loss: 0.6911 - val_accuracy: 0.4897 - val_loss: 0.6974\n",
      "Epoch 3/60\n",
      "\u001b[1m4237/4237\u001b[0m \u001b[32m━━━━━━━━━━━━━━━━━━━━\u001b[0m\u001b[37m\u001b[0m \u001b[1m20s\u001b[0m 5ms/step - accuracy: 0.5325 - loss: 0.6902 - val_accuracy: 0.4862 - val_loss: 0.7032\n",
      "Epoch 4/60\n",
      "\u001b[1m4237/4237\u001b[0m \u001b[32m━━━━━━━━━━━━━━━━━━━━\u001b[0m\u001b[37m\u001b[0m \u001b[1m20s\u001b[0m 5ms/step - accuracy: 0.5397 - loss: 0.6885 - val_accuracy: 0.4989 - val_loss: 0.7011\n",
      "Epoch 5/60\n",
      "\u001b[1m4237/4237\u001b[0m \u001b[32m━━━━━━━━━━━━━━━━━━━━\u001b[0m\u001b[37m\u001b[0m \u001b[1m20s\u001b[0m 5ms/step - accuracy: 0.5432 - loss: 0.6868 - val_accuracy: 0.4950 - val_loss: 0.7039\n",
      "Epoch 6/60\n",
      "\u001b[1m4237/4237\u001b[0m \u001b[32m━━━━━━━━━━━━━━━━━━━━\u001b[0m\u001b[37m\u001b[0m \u001b[1m20s\u001b[0m 5ms/step - accuracy: 0.5464 - loss: 0.6861 - val_accuracy: 0.4854 - val_loss: 0.7045\n",
      "Epoch 7/60\n",
      "\u001b[1m4237/4237\u001b[0m \u001b[32m━━━━━━━━━━━━━━━━━━━━\u001b[0m\u001b[37m\u001b[0m \u001b[1m20s\u001b[0m 5ms/step - accuracy: 0.5503 - loss: 0.6843 - val_accuracy: 0.4820 - val_loss: 0.7057\n",
      "Epoch 8/60\n",
      "\u001b[1m4237/4237\u001b[0m \u001b[32m━━━━━━━━━━━━━━━━━━━━\u001b[0m\u001b[37m\u001b[0m \u001b[1m20s\u001b[0m 5ms/step - accuracy: 0.5510 - loss: 0.6837 - val_accuracy: 0.4775 - val_loss: 0.7102\n",
      "Epoch 9/60\n",
      "\u001b[1m4237/4237\u001b[0m \u001b[32m━━━━━━━━━━━━━━━━━━━━\u001b[0m\u001b[37m\u001b[0m \u001b[1m20s\u001b[0m 5ms/step - accuracy: 0.5534 - loss: 0.6820 - val_accuracy: 0.4755 - val_loss: 0.7053\n",
      "Epoch 10/60\n",
      "\u001b[1m4237/4237\u001b[0m \u001b[32m━━━━━━━━━━━━━━━━━━━━\u001b[0m\u001b[37m\u001b[0m \u001b[1m20s\u001b[0m 5ms/step - accuracy: 0.5541 - loss: 0.6822 - val_accuracy: 0.4762 - val_loss: 0.7081\n",
      "Epoch 11/60\n",
      "\u001b[1m4237/4237\u001b[0m \u001b[32m━━━━━━━━━━━━━━━━━━━━\u001b[0m\u001b[37m\u001b[0m \u001b[1m20s\u001b[0m 5ms/step - accuracy: 0.5564 - loss: 0.6816 - val_accuracy: 0.4566 - val_loss: 0.7129\n",
      "Epoch 12/60\n",
      "\u001b[1m4237/4237\u001b[0m \u001b[32m━━━━━━━━━━━━━━━━━━━━\u001b[0m\u001b[37m\u001b[0m \u001b[1m20s\u001b[0m 5ms/step - accuracy: 0.5570 - loss: 0.6805 - val_accuracy: 0.4715 - val_loss: 0.7124\n",
      "Epoch 13/60\n",
      "\u001b[1m4237/4237\u001b[0m \u001b[32m━━━━━━━━━━━━━━━━━━━━\u001b[0m\u001b[37m\u001b[0m \u001b[1m18s\u001b[0m 4ms/step - accuracy: 0.5604 - loss: 0.6801 - val_accuracy: 0.4849 - val_loss: 0.7184\n",
      "Epoch 14/60\n",
      "\u001b[1m4237/4237\u001b[0m \u001b[32m━━━━━━━━━━━━━━━━━━━━\u001b[0m\u001b[37m\u001b[0m \u001b[1m19s\u001b[0m 5ms/step - accuracy: 0.5611 - loss: 0.6790 - val_accuracy: 0.4767 - val_loss: 0.7148\n",
      "Epoch 15/60\n",
      "\u001b[1m4237/4237\u001b[0m \u001b[32m━━━━━━━━━━━━━━━━━━━━\u001b[0m\u001b[37m\u001b[0m \u001b[1m20s\u001b[0m 5ms/step - accuracy: 0.5630 - loss: 0.6779 - val_accuracy: 0.4789 - val_loss: 0.7107\n",
      "Epoch 16/60\n",
      "\u001b[1m4237/4237\u001b[0m \u001b[32m━━━━━━━━━━━━━━━━━━━━\u001b[0m\u001b[37m\u001b[0m \u001b[1m20s\u001b[0m 5ms/step - accuracy: 0.5621 - loss: 0.6778 - val_accuracy: 0.4807 - val_loss: 0.7121\n",
      "Epoch 17/60\n",
      "\u001b[1m4237/4237\u001b[0m \u001b[32m━━━━━━━━━━━━━━━━━━━━\u001b[0m\u001b[37m\u001b[0m \u001b[1m20s\u001b[0m 5ms/step - accuracy: 0.5658 - loss: 0.6770 - val_accuracy: 0.4704 - val_loss: 0.7097\n",
      "Epoch 18/60\n",
      "\u001b[1m4237/4237\u001b[0m \u001b[32m━━━━━━━━━━━━━━━━━━━━\u001b[0m\u001b[37m\u001b[0m \u001b[1m20s\u001b[0m 5ms/step - accuracy: 0.5682 - loss: 0.6766 - val_accuracy: 0.4788 - val_loss: 0.7069\n",
      "Epoch 19/60\n",
      "\u001b[1m4237/4237\u001b[0m \u001b[32m━━━━━━━━━━━━━━━━━━━━\u001b[0m\u001b[37m\u001b[0m \u001b[1m20s\u001b[0m 5ms/step - accuracy: 0.5695 - loss: 0.6764 - val_accuracy: 0.4692 - val_loss: 0.7110\n",
      "Epoch 20/60\n",
      "\u001b[1m4237/4237\u001b[0m \u001b[32m━━━━━━━━━━━━━━━━━━━━\u001b[0m\u001b[37m\u001b[0m \u001b[1m20s\u001b[0m 5ms/step - accuracy: 0.5707 - loss: 0.6750 - val_accuracy: 0.4758 - val_loss: 0.7081\n",
      "Epoch 21/60\n",
      "\u001b[1m4237/4237\u001b[0m \u001b[32m━━━━━━━━━━━━━━━━━━━━\u001b[0m\u001b[37m\u001b[0m \u001b[1m20s\u001b[0m 5ms/step - accuracy: 0.5707 - loss: 0.6747 - val_accuracy: 0.4753 - val_loss: 0.7128\n",
      "Epoch 22/60\n",
      "\u001b[1m4237/4237\u001b[0m \u001b[32m━━━━━━━━━━━━━━━━━━━━\u001b[0m\u001b[37m\u001b[0m \u001b[1m19s\u001b[0m 5ms/step - accuracy: 0.5693 - loss: 0.6745 - val_accuracy: 0.4823 - val_loss: 0.7159\n",
      "Epoch 23/60\n",
      "\u001b[1m4237/4237\u001b[0m \u001b[32m━━━━━━━━━━━━━━━━━━━━\u001b[0m\u001b[37m\u001b[0m \u001b[1m20s\u001b[0m 5ms/step - accuracy: 0.5746 - loss: 0.6735 - val_accuracy: 0.4727 - val_loss: 0.7119\n",
      "Epoch 24/60\n",
      "\u001b[1m4237/4237\u001b[0m \u001b[32m━━━━━━━━━━━━━━━━━━━━\u001b[0m\u001b[37m\u001b[0m \u001b[1m20s\u001b[0m 5ms/step - accuracy: 0.5734 - loss: 0.6731 - val_accuracy: 0.4768 - val_loss: 0.7076\n",
      "Epoch 25/60\n",
      "\u001b[1m4237/4237\u001b[0m \u001b[32m━━━━━━━━━━━━━━━━━━━━\u001b[0m\u001b[37m\u001b[0m \u001b[1m21s\u001b[0m 5ms/step - accuracy: 0.5742 - loss: 0.6724 - val_accuracy: 0.4897 - val_loss: 0.7138\n",
      "Epoch 26/60\n",
      "\u001b[1m4237/4237\u001b[0m \u001b[32m━━━━━━━━━━━━━━━━━━━━\u001b[0m\u001b[37m\u001b[0m \u001b[1m20s\u001b[0m 5ms/step - accuracy: 0.5779 - loss: 0.6710 - val_accuracy: 0.4782 - val_loss: 0.7085\n",
      "Epoch 27/60\n",
      "\u001b[1m4237/4237\u001b[0m \u001b[32m━━━━━━━━━━━━━━━━━━━━\u001b[0m\u001b[37m\u001b[0m \u001b[1m21s\u001b[0m 5ms/step - accuracy: 0.5778 - loss: 0.6706 - val_accuracy: 0.4772 - val_loss: 0.7164\n",
      "Epoch 28/60\n",
      "\u001b[1m4237/4237\u001b[0m \u001b[32m━━━━━━━━━━━━━━━━━━━━\u001b[0m\u001b[37m\u001b[0m \u001b[1m21s\u001b[0m 5ms/step - accuracy: 0.5765 - loss: 0.6712 - val_accuracy: 0.4736 - val_loss: 0.7130\n",
      "Epoch 29/60\n",
      "\u001b[1m4237/4237\u001b[0m \u001b[32m━━━━━━━━━━━━━━━━━━━━\u001b[0m\u001b[37m\u001b[0m \u001b[1m20s\u001b[0m 5ms/step - accuracy: 0.5796 - loss: 0.6695 - val_accuracy: 0.4709 - val_loss: 0.7136\n",
      "Epoch 30/60\n",
      "\u001b[1m4237/4237\u001b[0m \u001b[32m━━━━━━━━━━━━━━━━━━━━\u001b[0m\u001b[37m\u001b[0m \u001b[1m21s\u001b[0m 5ms/step - accuracy: 0.5805 - loss: 0.6694 - val_accuracy: 0.4789 - val_loss: 0.7107\n",
      "Epoch 31/60\n",
      "\u001b[1m4237/4237\u001b[0m \u001b[32m━━━━━━━━━━━━━━━━━━━━\u001b[0m\u001b[37m\u001b[0m \u001b[1m20s\u001b[0m 5ms/step - accuracy: 0.5816 - loss: 0.6694 - val_accuracy: 0.4792 - val_loss: 0.7135\n",
      "Epoch 32/60\n",
      "\u001b[1m4237/4237\u001b[0m \u001b[32m━━━━━━━━━━━━━━━━━━━━\u001b[0m\u001b[37m\u001b[0m \u001b[1m20s\u001b[0m 5ms/step - accuracy: 0.5849 - loss: 0.6686 - val_accuracy: 0.4837 - val_loss: 0.7152\n",
      "Epoch 33/60\n",
      "\u001b[1m4237/4237\u001b[0m \u001b[32m━━━━━━━━━━━━━━━━━━━━\u001b[0m\u001b[37m\u001b[0m \u001b[1m20s\u001b[0m 5ms/step - accuracy: 0.5831 - loss: 0.6680 - val_accuracy: 0.4767 - val_loss: 0.7101\n",
      "Epoch 34/60\n",
      "\u001b[1m4237/4237\u001b[0m \u001b[32m━━━━━━━━━━━━━━━━━━━━\u001b[0m\u001b[37m\u001b[0m \u001b[1m20s\u001b[0m 5ms/step - accuracy: 0.5847 - loss: 0.6682 - val_accuracy: 0.4832 - val_loss: 0.7186\n",
      "Epoch 35/60\n",
      "\u001b[1m4237/4237\u001b[0m \u001b[32m━━━━━━━━━━━━━━━━━━━━\u001b[0m\u001b[37m\u001b[0m \u001b[1m20s\u001b[0m 5ms/step - accuracy: 0.5858 - loss: 0.6668 - val_accuracy: 0.4831 - val_loss: 0.7164\n",
      "Epoch 36/60\n",
      "\u001b[1m4237/4237\u001b[0m \u001b[32m━━━━━━━━━━━━━━━━━━━━\u001b[0m\u001b[37m\u001b[0m \u001b[1m20s\u001b[0m 5ms/step - accuracy: 0.5854 - loss: 0.6662 - val_accuracy: 0.4773 - val_loss: 0.7132\n",
      "Epoch 37/60\n",
      "\u001b[1m4237/4237\u001b[0m \u001b[32m━━━━━━━━━━━━━━━━━━━━\u001b[0m\u001b[37m\u001b[0m \u001b[1m20s\u001b[0m 5ms/step - accuracy: 0.5864 - loss: 0.6664 - val_accuracy: 0.4812 - val_loss: 0.7238\n",
      "Epoch 38/60\n",
      "\u001b[1m4237/4237\u001b[0m \u001b[32m━━━━━━━━━━━━━━━━━━━━\u001b[0m\u001b[37m\u001b[0m \u001b[1m20s\u001b[0m 5ms/step - accuracy: 0.5905 - loss: 0.6654 - val_accuracy: 0.4842 - val_loss: 0.7120\n",
      "Epoch 39/60\n",
      "\u001b[1m4237/4237\u001b[0m \u001b[32m━━━━━━━━━━━━━━━━━━━━\u001b[0m\u001b[37m\u001b[0m \u001b[1m20s\u001b[0m 5ms/step - accuracy: 0.5904 - loss: 0.6647 - val_accuracy: 0.4764 - val_loss: 0.7176\n",
      "Epoch 40/60\n",
      "\u001b[1m4237/4237\u001b[0m \u001b[32m━━━━━━━━━━━━━━━━━━━━\u001b[0m\u001b[37m\u001b[0m \u001b[1m20s\u001b[0m 5ms/step - accuracy: 0.5891 - loss: 0.6641 - val_accuracy: 0.4982 - val_loss: 0.7091\n",
      "Epoch 41/60\n",
      "\u001b[1m4237/4237\u001b[0m \u001b[32m━━━━━━━━━━━━━━━━━━━━\u001b[0m\u001b[37m\u001b[0m \u001b[1m20s\u001b[0m 5ms/step - accuracy: 0.5890 - loss: 0.6648 - val_accuracy: 0.4867 - val_loss: 0.7146\n",
      "Epoch 42/60\n",
      "\u001b[1m4237/4237\u001b[0m \u001b[32m━━━━━━━━━━━━━━━━━━━━\u001b[0m\u001b[37m\u001b[0m \u001b[1m20s\u001b[0m 5ms/step - accuracy: 0.5908 - loss: 0.6639 - val_accuracy: 0.4795 - val_loss: 0.7132\n",
      "Epoch 43/60\n",
      "\u001b[1m4237/4237\u001b[0m \u001b[32m━━━━━━━━━━━━━━━━━━━━\u001b[0m\u001b[37m\u001b[0m \u001b[1m20s\u001b[0m 5ms/step - accuracy: 0.5935 - loss: 0.6619 - val_accuracy: 0.4889 - val_loss: 0.7125\n",
      "Epoch 44/60\n",
      "\u001b[1m4237/4237\u001b[0m \u001b[32m━━━━━━━━━━━━━━━━━━━━\u001b[0m\u001b[37m\u001b[0m \u001b[1m20s\u001b[0m 5ms/step - accuracy: 0.5926 - loss: 0.6631 - val_accuracy: 0.4916 - val_loss: 0.7157\n",
      "Epoch 45/60\n",
      "\u001b[1m4237/4237\u001b[0m \u001b[32m━━━━━━━━━━━━━━━━━━━━\u001b[0m\u001b[37m\u001b[0m \u001b[1m20s\u001b[0m 5ms/step - accuracy: 0.5945 - loss: 0.6620 - val_accuracy: 0.4773 - val_loss: 0.7155\n",
      "Epoch 46/60\n",
      "\u001b[1m4237/4237\u001b[0m \u001b[32m━━━━━━━━━━━━━━━━━━━━\u001b[0m\u001b[37m\u001b[0m \u001b[1m20s\u001b[0m 5ms/step - accuracy: 0.5950 - loss: 0.6614 - val_accuracy: 0.4822 - val_loss: 0.7151\n",
      "Epoch 47/60\n",
      "\u001b[1m4237/4237\u001b[0m \u001b[32m━━━━━━━━━━━━━━━━━━━━\u001b[0m\u001b[37m\u001b[0m \u001b[1m21s\u001b[0m 5ms/step - accuracy: 0.5969 - loss: 0.6602 - val_accuracy: 0.4858 - val_loss: 0.7172\n",
      "Epoch 48/60\n",
      "\u001b[1m4237/4237\u001b[0m \u001b[32m━━━━━━━━━━━━━━━━━━━━\u001b[0m\u001b[37m\u001b[0m \u001b[1m22s\u001b[0m 5ms/step - accuracy: 0.5993 - loss: 0.6593 - val_accuracy: 0.4943 - val_loss: 0.7175\n",
      "Epoch 49/60\n",
      "\u001b[1m4237/4237\u001b[0m \u001b[32m━━━━━━━━━━━━━━━━━━━━\u001b[0m\u001b[37m\u001b[0m \u001b[1m20s\u001b[0m 5ms/step - accuracy: 0.5946 - loss: 0.6608 - val_accuracy: 0.4869 - val_loss: 0.7111\n",
      "Epoch 50/60\n",
      "\u001b[1m4237/4237\u001b[0m \u001b[32m━━━━━━━━━━━━━━━━━━━━\u001b[0m\u001b[37m\u001b[0m \u001b[1m20s\u001b[0m 5ms/step - accuracy: 0.5960 - loss: 0.6599 - val_accuracy: 0.4819 - val_loss: 0.7144\n",
      "Epoch 51/60\n",
      "\u001b[1m4237/4237\u001b[0m \u001b[32m━━━━━━━━━━━━━━━━━━━━\u001b[0m\u001b[37m\u001b[0m \u001b[1m20s\u001b[0m 5ms/step - accuracy: 0.5982 - loss: 0.6581 - val_accuracy: 0.4835 - val_loss: 0.7123\n",
      "Epoch 52/60\n",
      "\u001b[1m4237/4237\u001b[0m \u001b[32m━━━━━━━━━━━━━━━━━━━━\u001b[0m\u001b[37m\u001b[0m \u001b[1m20s\u001b[0m 5ms/step - accuracy: 0.5974 - loss: 0.6594 - val_accuracy: 0.4873 - val_loss: 0.7142\n",
      "Epoch 53/60\n",
      "\u001b[1m4237/4237\u001b[0m \u001b[32m━━━━━━━━━━━━━━━━━━━━\u001b[0m\u001b[37m\u001b[0m \u001b[1m20s\u001b[0m 5ms/step - accuracy: 0.6003 - loss: 0.6574 - val_accuracy: 0.4876 - val_loss: 0.7100\n",
      "Epoch 54/60\n",
      "\u001b[1m4237/4237\u001b[0m \u001b[32m━━━━━━━━━━━━━━━━━━━━\u001b[0m\u001b[37m\u001b[0m \u001b[1m20s\u001b[0m 5ms/step - accuracy: 0.5993 - loss: 0.6584 - val_accuracy: 0.4797 - val_loss: 0.7191\n",
      "Epoch 55/60\n",
      "\u001b[1m4237/4237\u001b[0m \u001b[32m━━━━━━━━━━━━━━━━━━━━\u001b[0m\u001b[37m\u001b[0m \u001b[1m20s\u001b[0m 5ms/step - accuracy: 0.5997 - loss: 0.6582 - val_accuracy: 0.4911 - val_loss: 0.7132\n",
      "Epoch 56/60\n",
      "\u001b[1m4237/4237\u001b[0m \u001b[32m━━━━━━━━━━━━━━━━━━━━\u001b[0m\u001b[37m\u001b[0m \u001b[1m20s\u001b[0m 5ms/step - accuracy: 0.6011 - loss: 0.6573 - val_accuracy: 0.4966 - val_loss: 0.7162\n",
      "Epoch 57/60\n",
      "\u001b[1m4237/4237\u001b[0m \u001b[32m━━━━━━━━━━━━━━━━━━━━\u001b[0m\u001b[37m\u001b[0m \u001b[1m20s\u001b[0m 5ms/step - accuracy: 0.6012 - loss: 0.6573 - val_accuracy: 0.4845 - val_loss: 0.7142\n",
      "Epoch 58/60\n",
      "\u001b[1m4237/4237\u001b[0m \u001b[32m━━━━━━━━━━━━━━━━━━━━\u001b[0m\u001b[37m\u001b[0m \u001b[1m20s\u001b[0m 5ms/step - accuracy: 0.5997 - loss: 0.6575 - val_accuracy: 0.4880 - val_loss: 0.7178\n",
      "Epoch 59/60\n",
      "\u001b[1m4237/4237\u001b[0m \u001b[32m━━━━━━━━━━━━━━━━━━━━\u001b[0m\u001b[37m\u001b[0m \u001b[1m20s\u001b[0m 5ms/step - accuracy: 0.6065 - loss: 0.6555 - val_accuracy: 0.4851 - val_loss: 0.7197\n",
      "Epoch 60/60\n",
      "\u001b[1m4237/4237\u001b[0m \u001b[32m━━━━━━━━━━━━━━━━━━━━\u001b[0m\u001b[37m\u001b[0m \u001b[1m20s\u001b[0m 5ms/step - accuracy: 0.6018 - loss: 0.6567 - val_accuracy: 0.4829 - val_loss: 0.7170\n"
     ]
    }
   ],
   "source": [
    "history = model.fit(\n",
    "    X_train,\n",
    "    y_train,\n",
    "    validation_split=0.2,\n",
    "    epochs=EPOCHS,\n",
    "    batch_size=BATCH_SIZE,\n",
    "    verbose=1\n",
    ")"
   ]
  },
  {
   "cell_type": "markdown",
   "metadata": {},
   "source": [
    "### 8) Plot train vs. val accuracy"
   ]
  },
  {
   "cell_type": "code",
   "execution_count": 139,
   "metadata": {},
   "outputs": [
    {
     "data": {
      "image/png": "[encoded data removed]",
      "text/plain": [
       "<Figure size 800x400 with 1 Axes>"
      ]
     },
     "metadata": {},
     "output_type": "display_data"
    }
   ],
   "source": [
    "plt.figure(figsize=(8,4))\n",
    "plt.plot(history.history['accuracy'],    label='Train Acc')\n",
    "plt.plot(history.history['val_accuracy'],label='Val Acc')\n",
    "plt.title('TCN Up/Down Classifier Accuracy')\n",
    "plt.xlabel('Epoch')\n",
    "plt.ylabel('Accuracy')\n",
    "plt.legend()\n",
    "plt.show()"
   ]
  },
  {
   "cell_type": "markdown",
   "metadata": {},
   "source": [
    "## Third part: Predict over all symbols using (Long, short, Long-Short and Asset-holding technique)"
   ]
  },
  {
   "cell_type": "markdown",
   "metadata": {},
   "source": [
    "### 9) Predict on test set"
   ]
  },
  {
   "cell_type": "code",
   "execution_count": 140,
   "metadata": {},
   "outputs": [
    {
     "name": "stdout",
     "output_type": "stream",
     "text": [
      "\u001b[1m5297/5297\u001b[0m \u001b[32m━━━━━━━━━━━━━━━━━━━━\u001b[0m\u001b[37m\u001b[0m \u001b[1m7s\u001b[0m 1ms/step\n"
     ]
    }
   ],
   "source": [
    "probs_all = model.predict(X_test).flatten()\n",
    "preds_all = (probs_all >= 0.5).astype(int)"
   ]
  },
  {
   "cell_type": "markdown",
   "metadata": {},
   "source": [
    "### 10) Backtest & compute metrics for all symbols"
   ]
  },
  {
   "cell_type": "code",
   "execution_count": 141,
   "metadata": {},
   "outputs": [],
   "source": [
    "def sharpe_ratio(returns):\n",
    "    \"\"\"\n",
    "    Non-annualized Sharpe ratio: mean / std.\n",
    "    \"\"\"\n",
    "    raw_sharpe = returns.mean() / returns.std()\n",
    "    bars_per_day = 36  # Assuming 6-hour trading day\n",
    "    bars_per_year = bars_per_day * 252\n",
    "\n",
    "    annual_sharpe = raw_sharpe * np.sqrt(bars_per_year)\n",
    "    return annual_sharpe\n",
    "\n",
    "\n",
    "def max_drawdown(cum_returns):\n",
    "    \"\"\"\n",
    "    Maximum drawdown from a cumulative returns series.\n",
    "    \"\"\"\n",
    "    running_max = np.maximum.accumulate(cum_returns)\n",
    "    drawdowns   = cum_returns / running_max - 1\n",
    "    return drawdowns.min()\n",
    "\n",
    "results = []\n",
    "\n",
    "for sym in np.unique(symbols_test):\n",
    "    mask      = (symbols_test == sym)\n",
    "    times_sym = times_test[mask]\n",
    "    rets_sym  = rets_test[mask]\n",
    "    preds_sym = preds_all[mask]\n",
    "\n",
    "    # Sort chronologically\n",
    "    order     = np.argsort(times_sym)\n",
    "    rets_sym  = rets_sym[order]\n",
    "    preds_sym = preds_sym[order]\n",
    "\n",
    "    # Strategy return streams\n",
    "    strat_returns = {\n",
    "        \"Long Only\":      preds_sym * rets_sym,\n",
    "        \"Short Only\":     (1 - preds_sym) * (-rets_sym),\n",
    "        \"Long–Short\":     np.where(preds_sym==1, 1, -1) * rets_sym,\n",
    "        \"Buy & Hold\":     rets_sym\n",
    "    }\n",
    "\n",
    "    # Compute Sharpe & Max Drawdown\n",
    "    for strat, r in strat_returns.items():\n",
    "        cum = np.cumprod(1 + r)\n",
    "        results.append({\n",
    "            \"symbol\":        sym,\n",
    "            \"strategy\":      strat,\n",
    "            \"Sharpe\":        sharpe_ratio(r),\n",
    "            \"Max Drawdown\":  max_drawdown(cum)\n",
    "        })"
   ]
  },
  {
   "cell_type": "markdown",
   "metadata": {},
   "source": [
    "### 11) Aggregate results into DataFrame & pivot"
   ]
  },
  {
   "cell_type": "code",
   "execution_count": 142,
   "metadata": {},
   "outputs": [],
   "source": [
    "results_df = pd.DataFrame(results)\n",
    "\n",
    "pivot = results_df.pivot(\n",
    "    index=\"symbol\",\n",
    "    columns=\"strategy\",\n",
    "    values=[\"Sharpe\", \"Max Drawdown\"]\n",
    ")\n",
    "\n",
    "# Flatten MultiIndex columns: \"Strategy Metric\"\n",
    "pivot.columns = [\n",
    "    f\"{strategy} {metric}\"\n",
    "    for metric, strategy in pivot.columns\n",
    "]\n",
    "\n",
    "pivot = pivot.reset_index()\n",
    "\n",
    "# Round numeric values for readability\n",
    "pivot.iloc[:, 1:] = pivot.iloc[:, 1:].round(3)"
   ]
  },
  {
   "cell_type": "markdown",
   "metadata": {},
   "source": [
    "12) Extract separate DataFrames for Sharpe & Drawdown"
   ]
  },
  {
   "cell_type": "code",
   "execution_count": 143,
   "metadata": {},
   "outputs": [],
   "source": [
    "def get_sharpe_df(pivot_df):\n",
    "    \"\"\"\n",
    "    Return a DataFrame of Sharpe ratios for each symbol/strategy.\n",
    "    \"\"\"\n",
    "    cols = [c for c in pivot_df.columns if c.endswith(\"Sharpe\")]\n",
    "    df = pivot_df[[\"symbol\"] + cols].copy()\n",
    "    df.columns = [\"symbol\"] + [c.replace(\" Sharpe\", \"\") for c in cols]\n",
    "    return df\n",
    "\n",
    "\n",
    "def get_drawdown_df(pivot_df):\n",
    "    \"\"\"\n",
    "    Return a DataFrame of Max Drawdowns for each symbol/strategy.\n",
    "    \"\"\"\n",
    "    cols = [c for c in pivot_df.columns if c.endswith(\"Max Drawdown\")]\n",
    "    df = pivot_df[[\"symbol\"] + cols].copy()\n",
    "    df.columns = [\"symbol\"] + [c.replace(\" Max Drawdown\", \"\") for c in cols]\n",
    "    return df\n",
    "\n",
    "\n",
    "sharpe_df    = get_sharpe_df(pivot)\n",
    "drawdown_df  = get_drawdown_df(pivot)"
   ]
  },
  {
   "cell_type": "markdown",
   "metadata": {},
   "source": [
    "### 13) Display the two summary tables"
   ]
  },
  {
   "cell_type": "code",
   "execution_count": 144,
   "metadata": {},
   "outputs": [
    {
     "name": "stdout",
     "output_type": "stream",
     "text": [
      "=== Sharpe Ratios by Symbol ===\n"
     ]
    },
    {
     "data": {
      "text/html": [
       "<div>\n",
       "<style scoped>\n",
       "    .dataframe tbody tr th:only-of-type {\n",
       "        vertical-align: middle;\n",
       "    }\n",
       "\n",
       "    .dataframe tbody tr th {\n",
       "        vertical-align: top;\n",
       "    }\n",
       "\n",
       "    .dataframe thead th {\n",
       "        text-align: right;\n",
       "    }\n",
       "</style>\n",
       "<table border=\"1\" class=\"dataframe\">\n",
       "  <thead>\n",
       "    <tr style=\"text-align: right;\">\n",
       "      <th></th>\n",
       "      <th>symbol</th>\n",
       "      <th>Buy &amp; Hold</th>\n",
       "      <th>Long Only</th>\n",
       "      <th>Long–Short</th>\n",
       "      <th>Short Only</th>\n",
       "    </tr>\n",
       "  </thead>\n",
       "  <tbody>\n",
       "    <tr>\n",
       "      <th>0</th>\n",
       "      <td>A</td>\n",
       "      <td>6.744</td>\n",
       "      <td>3.356</td>\n",
       "      <td>-3.223</td>\n",
       "      <td>-5.846</td>\n",
       "    </tr>\n",
       "    <tr>\n",
       "      <th>1</th>\n",
       "      <td>AAPL</td>\n",
       "      <td>5.233</td>\n",
       "      <td>6.072</td>\n",
       "      <td>2.023</td>\n",
       "      <td>-1.998</td>\n",
       "    </tr>\n",
       "    <tr>\n",
       "      <th>2</th>\n",
       "      <td>ABBV</td>\n",
       "      <td>5.884</td>\n",
       "      <td>12.939</td>\n",
       "      <td>11.590</td>\n",
       "      <td>3.833</td>\n",
       "    </tr>\n",
       "    <tr>\n",
       "      <th>3</th>\n",
       "      <td>ABNB</td>\n",
       "      <td>4.588</td>\n",
       "      <td>-1.376</td>\n",
       "      <td>-6.469</td>\n",
       "      <td>-7.550</td>\n",
       "    </tr>\n",
       "    <tr>\n",
       "      <th>4</th>\n",
       "      <td>ABT</td>\n",
       "      <td>2.437</td>\n",
       "      <td>-0.029</td>\n",
       "      <td>-2.464</td>\n",
       "      <td>-2.769</td>\n",
       "    </tr>\n",
       "    <tr>\n",
       "      <th>5</th>\n",
       "      <td>ACGL</td>\n",
       "      <td>2.341</td>\n",
       "      <td>-1.673</td>\n",
       "      <td>-4.739</td>\n",
       "      <td>-5.068</td>\n",
       "    </tr>\n",
       "    <tr>\n",
       "      <th>6</th>\n",
       "      <td>ACN</td>\n",
       "      <td>5.578</td>\n",
       "      <td>6.416</td>\n",
       "      <td>0.524</td>\n",
       "      <td>-2.869</td>\n",
       "    </tr>\n",
       "    <tr>\n",
       "      <th>7</th>\n",
       "      <td>ADBE</td>\n",
       "      <td>2.781</td>\n",
       "      <td>0.314</td>\n",
       "      <td>-2.531</td>\n",
       "      <td>-2.895</td>\n",
       "    </tr>\n",
       "    <tr>\n",
       "      <th>8</th>\n",
       "      <td>ADI</td>\n",
       "      <td>3.452</td>\n",
       "      <td>7.081</td>\n",
       "      <td>4.241</td>\n",
       "      <td>0.469</td>\n",
       "    </tr>\n",
       "    <tr>\n",
       "      <th>9</th>\n",
       "      <td>ADM</td>\n",
       "      <td>4.197</td>\n",
       "      <td>5.652</td>\n",
       "      <td>1.881</td>\n",
       "      <td>-1.372</td>\n",
       "    </tr>\n",
       "  </tbody>\n",
       "</table>\n",
       "</div>"
      ],
      "text/plain": [
       "  symbol  Buy & Hold  Long Only  Long–Short  Short Only\n",
       "0      A       6.744      3.356      -3.223      -5.846\n",
       "1   AAPL       5.233      6.072       2.023      -1.998\n",
       "2   ABBV       5.884     12.939      11.590       3.833\n",
       "3   ABNB       4.588     -1.376      -6.469      -7.550\n",
       "4    ABT       2.437     -0.029      -2.464      -2.769\n",
       "5   ACGL       2.341     -1.673      -4.739      -5.068\n",
       "6    ACN       5.578      6.416       0.524      -2.869\n",
       "7   ADBE       2.781      0.314      -2.531      -2.895\n",
       "8    ADI       3.452      7.081       4.241       0.469\n",
       "9    ADM       4.197      5.652       1.881      -1.372"
      ]
     },
     "execution_count": 144,
     "metadata": {},
     "output_type": "execute_result"
    }
   ],
   "source": [
    "print(\"=== Sharpe Ratios by Symbol ===\")\n",
    "sharpe_df.head(10)"
   ]
  },
  {
   "cell_type": "code",
   "execution_count": 145,
   "metadata": {},
   "outputs": [
    {
     "name": "stdout",
     "output_type": "stream",
     "text": [
      "\n",
      "=== Max Drawdowns by Symbol ===\n"
     ]
    },
    {
     "data": {
      "text/html": [
       "<div>\n",
       "<style scoped>\n",
       "    .dataframe tbody tr th:only-of-type {\n",
       "        vertical-align: middle;\n",
       "    }\n",
       "\n",
       "    .dataframe tbody tr th {\n",
       "        vertical-align: top;\n",
       "    }\n",
       "\n",
       "    .dataframe thead th {\n",
       "        text-align: right;\n",
       "    }\n",
       "</style>\n",
       "<table border=\"1\" class=\"dataframe\">\n",
       "  <thead>\n",
       "    <tr style=\"text-align: right;\">\n",
       "      <th></th>\n",
       "      <th>symbol</th>\n",
       "      <th>Buy &amp; Hold</th>\n",
       "      <th>Long Only</th>\n",
       "      <th>Long–Short</th>\n",
       "      <th>Short Only</th>\n",
       "    </tr>\n",
       "  </thead>\n",
       "  <tbody>\n",
       "    <tr>\n",
       "      <th>0</th>\n",
       "      <td>A</td>\n",
       "      <td>-0.024</td>\n",
       "      <td>-0.022</td>\n",
       "      <td>-0.058</td>\n",
       "      <td>-0.066</td>\n",
       "    </tr>\n",
       "    <tr>\n",
       "      <th>1</th>\n",
       "      <td>AAPL</td>\n",
       "      <td>-0.027</td>\n",
       "      <td>-0.015</td>\n",
       "      <td>-0.020</td>\n",
       "      <td>-0.040</td>\n",
       "    </tr>\n",
       "    <tr>\n",
       "      <th>2</th>\n",
       "      <td>ABBV</td>\n",
       "      <td>-0.019</td>\n",
       "      <td>-0.008</td>\n",
       "      <td>-0.014</td>\n",
       "      <td>-0.017</td>\n",
       "    </tr>\n",
       "    <tr>\n",
       "      <th>3</th>\n",
       "      <td>ABNB</td>\n",
       "      <td>-0.041</td>\n",
       "      <td>-0.041</td>\n",
       "      <td>-0.141</td>\n",
       "      <td>-0.109</td>\n",
       "    </tr>\n",
       "    <tr>\n",
       "      <th>4</th>\n",
       "      <td>ABT</td>\n",
       "      <td>-0.038</td>\n",
       "      <td>-0.017</td>\n",
       "      <td>-0.052</td>\n",
       "      <td>-0.046</td>\n",
       "    </tr>\n",
       "    <tr>\n",
       "      <th>5</th>\n",
       "      <td>ACGL</td>\n",
       "      <td>-0.038</td>\n",
       "      <td>-0.034</td>\n",
       "      <td>-0.091</td>\n",
       "      <td>-0.071</td>\n",
       "    </tr>\n",
       "    <tr>\n",
       "      <th>6</th>\n",
       "      <td>ACN</td>\n",
       "      <td>-0.040</td>\n",
       "      <td>-0.010</td>\n",
       "      <td>-0.052</td>\n",
       "      <td>-0.061</td>\n",
       "    </tr>\n",
       "    <tr>\n",
       "      <th>7</th>\n",
       "      <td>ADBE</td>\n",
       "      <td>-0.033</td>\n",
       "      <td>-0.019</td>\n",
       "      <td>-0.053</td>\n",
       "      <td>-0.062</td>\n",
       "    </tr>\n",
       "    <tr>\n",
       "      <th>8</th>\n",
       "      <td>ADI</td>\n",
       "      <td>-0.032</td>\n",
       "      <td>-0.010</td>\n",
       "      <td>-0.026</td>\n",
       "      <td>-0.031</td>\n",
       "    </tr>\n",
       "    <tr>\n",
       "      <th>9</th>\n",
       "      <td>ADM</td>\n",
       "      <td>-0.044</td>\n",
       "      <td>-0.008</td>\n",
       "      <td>-0.035</td>\n",
       "      <td>-0.043</td>\n",
       "    </tr>\n",
       "  </tbody>\n",
       "</table>\n",
       "</div>"
      ],
      "text/plain": [
       "  symbol  Buy & Hold  Long Only  Long–Short  Short Only\n",
       "0      A      -0.024     -0.022      -0.058      -0.066\n",
       "1   AAPL      -0.027     -0.015      -0.020      -0.040\n",
       "2   ABBV      -0.019     -0.008      -0.014      -0.017\n",
       "3   ABNB      -0.041     -0.041      -0.141      -0.109\n",
       "4    ABT      -0.038     -0.017      -0.052      -0.046\n",
       "5   ACGL      -0.038     -0.034      -0.091      -0.071\n",
       "6    ACN      -0.040     -0.010      -0.052      -0.061\n",
       "7   ADBE      -0.033     -0.019      -0.053      -0.062\n",
       "8    ADI      -0.032     -0.010      -0.026      -0.031\n",
       "9    ADM      -0.044     -0.008      -0.035      -0.043"
      ]
     },
     "execution_count": 145,
     "metadata": {},
     "output_type": "execute_result"
    }
   ],
   "source": [
    "print(\"\\n=== Max Drawdowns by Symbol ===\")\n",
    "drawdown_df.head(10)"
   ]
  },
  {
   "cell_type": "markdown",
   "metadata": {},
   "source": [
    "## Fourth part: Cumprod plot of one specific stock"
   ]
  },
  {
   "cell_type": "code",
   "execution_count": 146,
   "metadata": {},
   "outputs": [
    {
     "name": "stdout",
     "output_type": "stream",
     "text": [
      "\u001b[1m12/12\u001b[0m \u001b[32m━━━━━━━━━━━━━━━━━━━━\u001b[0m\u001b[37m\u001b[0m \u001b[1m0s\u001b[0m 2ms/step \n"
     ]
    }
   ],
   "source": [
    "sel  = \"AAPL\"\n",
    "mask = (symbols_test == sel)\n",
    "X_sel     = X_test[mask]\n",
    "times_sel = times_test[mask]\n",
    "rets_sel  = rets_test[mask]\n",
    "probs = model.predict(X_sel).flatten()\n",
    "preds = (probs >= 0.5).astype(int)"
   ]
  },
  {
   "cell_type": "code",
   "execution_count": 147,
   "metadata": {},
   "outputs": [
    {
     "data": {
      "image/png": "[encoded data removed]",
      "text/plain": [
       "<Figure size 1000x500 with 1 Axes>"
      ]
     },
     "metadata": {},
     "output_type": "display_data"
    }
   ],
   "source": [
    "import matplotlib.dates as mdates\n",
    "\n",
    "order     = np.argsort(times_sel)\n",
    "times_sel = times_sel[order]\n",
    "rets_sel  = rets_sel[order]\n",
    "preds     = preds[order]\n",
    "\n",
    "ret_long       = preds * rets_sel\n",
    "ret_short      = (1 - preds) * (-rets_sel)\n",
    "ret_long_short = np.where(preds==1, 1, -1) * rets_sel\n",
    "ret_bh         = rets_sel\n",
    "\n",
    "cum_long       = np.cumprod(1 + ret_long)\n",
    "cum_short      = np.cumprod(1 + ret_short)\n",
    "cum_long_short = np.cumprod(1 + ret_long_short)\n",
    "cum_bh         = np.cumprod(1 + ret_bh)\n",
    "\n",
    "plt.figure(figsize=(10,5))\n",
    "plt.plot(times_sel, cum_long,       label='Long Only')\n",
    "plt.plot(times_sel, cum_short,      label='Short Only')\n",
    "plt.plot(times_sel, cum_long_short, label='Long–Short')\n",
    "plt.plot(times_sel, cum_bh,         label='Buy & Hold')\n",
    "plt.title(f'{sel} Equity Curves')                           \n",
    "plt.xlabel('Time'); plt.ylabel('Cumulative Return')\n",
    "plt.legend(); plt.show()"
   ]
  }
 ],
 "metadata": {
  "kernelspec": {
   "display_name": "tf",
   "language": "python",
   "name": "python3"
  },
  "language_info": {
   "codemirror_mode": {
    "name": "ipython",
    "version": 3
   },
   "file_extension": ".py",
   "mimetype": "text/x-python",
   "name": "python",
   "nbconvert_exporter": "python",
   "pygments_lexer": "ipython3",
   "version": "3.10.16"
  }
 },
 "nbformat": 4,
 "nbformat_minor": 2
}
