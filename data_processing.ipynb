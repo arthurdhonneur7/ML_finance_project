{
 "cells": [
  {
   "cell_type": "markdown",
   "metadata": {},
   "source": [
    "# Let's preprocess the data"
   ]
  },
  {
   "cell_type": "code",
   "execution_count": 3,
   "metadata": {},
   "outputs": [],
   "source": [
    "import pandas as pd\n",
    "import seaborn as sns\n",
    "import glob\n",
    "\n",
    "sns.set_theme()"
   ]
  },
  {
   "cell_type": "code",
   "execution_count": 5,
   "metadata": {},
   "outputs": [
    {
     "data": {
      "text/plain": [
       "['./data/20211228.csv.gz',\n",
       " './data/20211210.csv.gz',\n",
       " './data/20211202.csv.gz',\n",
       " './data/20211222.csv.gz',\n",
       " './data/20211230.csv.gz',\n",
       " './data/20211206.csv.gz',\n",
       " './data/20211214.csv.gz',\n",
       " './data/20211220.csv.gz',\n",
       " './data/20211216.csv.gz',\n",
       " './data/20211208.csv.gz',\n",
       " './data/20211229.csv.gz',\n",
       " './data/20211201.csv.gz',\n",
       " './data/20211213.csv.gz',\n",
       " './data/20211227.csv.gz',\n",
       " './data/20211203.csv.gz',\n",
       " './data/20211207.csv.gz',\n",
       " './data/20211215.csv.gz',\n",
       " './data/20211223.csv.gz',\n",
       " './data/20211231.csv.gz',\n",
       " './data/20211209.csv.gz',\n",
       " './data/20211217.csv.gz',\n",
       " './data/20211221.csv.gz']"
      ]
     },
     "execution_count": 5,
     "metadata": {},
     "output_type": "execute_result"
    }
   ],
   "source": [
    "list_data_frames = glob.glob('./data/*')\n",
    "\n"
   ]
  },
  {
   "cell_type": "markdown",
   "metadata": {},
   "source": [
    "## Selecting the appropriate tickers"
   ]
  },
  {
   "cell_type": "code",
   "execution_count": 11,
   "metadata": {},
   "outputs": [],
   "source": [
    "# URL of the Wikipedia page\n",
    "url = 'https://en.wikipedia.org/wiki/List_of_S%26P_500_companies'\n",
    "\n",
    "# Read the table from the Wikipedia page\n",
    "sp500_table = pd.read_html(url, attrs={'id': 'constituents'})[0]\n",
    "\n",
    "# Display the first few rows\n",
    "sp500_tickers = sp500_table['Symbol']\n"
   ]
  },
  {
   "cell_type": "code",
   "execution_count": null,
   "metadata": {},
   "outputs": [],
   "source": []
  }
 ],
 "metadata": {
  "kernelspec": {
   "display_name": "investmentepfl",
   "language": "python",
   "name": "python3"
  },
  "language_info": {
   "codemirror_mode": {
    "name": "ipython",
    "version": 3
   },
   "file_extension": ".py",
   "mimetype": "text/x-python",
   "name": "python",
   "nbconvert_exporter": "python",
   "pygments_lexer": "ipython3",
   "version": "3.11.11"
  }
 },
 "nbformat": 4,
 "nbformat_minor": 2
}
