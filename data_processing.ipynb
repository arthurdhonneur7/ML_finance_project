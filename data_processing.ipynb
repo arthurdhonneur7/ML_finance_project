{
 "cells": [
  {
   "cell_type": "markdown",
   "metadata": {},
   "source": [
    "# Let's preprocess the data"
   ]
  },
  {
   "cell_type": "code",
   "execution_count": 111,
   "metadata": {},
   "outputs": [],
   "source": [
    "import pandas as pd\n",
    "import seaborn as sns\n",
    "import glob\n",
    "import os \n",
    "import re\n",
    "\n",
    "sns.set_theme()"
   ]
  },
  {
   "cell_type": "markdown",
   "metadata": {},
   "source": [
    "## Pre visualisation"
   ]
  },
  {
   "cell_type": "code",
   "execution_count": 112,
   "metadata": {},
   "outputs": [
    {
     "name": "stdout",
     "output_type": "stream",
     "text": [
      "['./data/20211201.csv.gz', './data/20211202.csv.gz', './data/20211203.csv.gz', './data/20211206.csv.gz', './data/20211207.csv.gz', './data/20211208.csv.gz', './data/20211209.csv.gz', './data/20211210.csv.gz', './data/20211213.csv.gz', './data/20211214.csv.gz', './data/20211215.csv.gz', './data/20211216.csv.gz', './data/20211217.csv.gz', './data/20211220.csv.gz', './data/20211221.csv.gz', './data/20211222.csv.gz', './data/20211223.csv.gz', './data/20211227.csv.gz', './data/20211228.csv.gz', './data/20211229.csv.gz', './data/20211230.csv.gz', './data/20211231.csv.gz']\n"
     ]
    },
    {
     "data": {
      "text/html": [
       "<div>\n",
       "<style scoped>\n",
       "    .dataframe tbody tr th:only-of-type {\n",
       "        vertical-align: middle;\n",
       "    }\n",
       "\n",
       "    .dataframe tbody tr th {\n",
       "        vertical-align: top;\n",
       "    }\n",
       "\n",
       "    .dataframe thead th {\n",
       "        text-align: right;\n",
       "    }\n",
       "</style>\n",
       "<table border=\"1\" class=\"dataframe\">\n",
       "  <thead>\n",
       "    <tr style=\"text-align: right;\">\n",
       "      <th></th>\n",
       "      <th>DATE</th>\n",
       "      <th>SYMBOL</th>\n",
       "      <th>TIME</th>\n",
       "      <th>ALL_EX</th>\n",
       "      <th>MID_OPEN</th>\n",
       "      <th>SUM_DELTA</th>\n",
       "    </tr>\n",
       "  </thead>\n",
       "  <tbody>\n",
       "    <tr>\n",
       "      <th>0</th>\n",
       "      <td>20211201</td>\n",
       "      <td>A</td>\n",
       "      <td>09:30:00</td>\n",
       "      <td>DNYBTJVPCZUKXHA</td>\n",
       "      <td>152.190</td>\n",
       "      <td>-8.401819</td>\n",
       "    </tr>\n",
       "    <tr>\n",
       "      <th>1</th>\n",
       "      <td>20211201</td>\n",
       "      <td>A</td>\n",
       "      <td>09:40:00</td>\n",
       "      <td>PBTJVDZUYKNHCXM</td>\n",
       "      <td>150.490</td>\n",
       "      <td>0.473357</td>\n",
       "    </tr>\n",
       "    <tr>\n",
       "      <th>2</th>\n",
       "      <td>20211201</td>\n",
       "      <td>A</td>\n",
       "      <td>09:50:00</td>\n",
       "      <td>KDPBTJVNZUCXYH</td>\n",
       "      <td>151.475</td>\n",
       "      <td>-10.867709</td>\n",
       "    </tr>\n",
       "    <tr>\n",
       "      <th>3</th>\n",
       "      <td>20211201</td>\n",
       "      <td>A</td>\n",
       "      <td>10:00:00</td>\n",
       "      <td>DABTJNKYVPZUXCH</td>\n",
       "      <td>150.510</td>\n",
       "      <td>-0.125414</td>\n",
       "    </tr>\n",
       "    <tr>\n",
       "      <th>4</th>\n",
       "      <td>20211201</td>\n",
       "      <td>A</td>\n",
       "      <td>10:10:00</td>\n",
       "      <td>DVJTPNKUZYACBXHM</td>\n",
       "      <td>151.960</td>\n",
       "      <td>-1.274648</td>\n",
       "    </tr>\n",
       "  </tbody>\n",
       "</table>\n",
       "</div>"
      ],
      "text/plain": [
       "       DATE SYMBOL      TIME            ALL_EX  MID_OPEN  SUM_DELTA\n",
       "0  20211201      A  09:30:00   DNYBTJVPCZUKXHA   152.190  -8.401819\n",
       "1  20211201      A  09:40:00   PBTJVDZUYKNHCXM   150.490   0.473357\n",
       "2  20211201      A  09:50:00    KDPBTJVNZUCXYH   151.475 -10.867709\n",
       "3  20211201      A  10:00:00   DABTJNKYVPZUXCH   150.510  -0.125414\n",
       "4  20211201      A  10:10:00  DVJTPNKUZYACBXHM   151.960  -1.274648"
      ]
     },
     "execution_count": 112,
     "metadata": {},
     "output_type": "execute_result"
    }
   ],
   "source": [
    "list_paths = glob.glob('./data/*')\n",
    "list_paths.sort()\n",
    "print(list_paths)\n",
    "\n",
    "\n",
    "df_test = pd.read_csv(list_paths[0], compression='gzip')\n",
    "\n",
    "# Preview the data\n",
    "df_test.head()"
   ]
  },
  {
   "cell_type": "markdown",
   "metadata": {},
   "source": [
    "## Selecting the appropriate tickers and building the data frame"
   ]
  },
  {
   "cell_type": "code",
   "execution_count": 126,
   "metadata": {},
   "outputs": [],
   "source": [
    "url_dict = {\n",
    "    'sp500': (\"https://en.wikipedia.org/wiki/List_of_S%26P_500_companies\", 0, \"Symbol\"),\n",
    "    'russell1000': (\"https://en.wikipedia.org/wiki/Russell_1000_Index\", 3, 'Symbol'),\n",
    "    'ftse100': (\"https://en.wikipedia.org/wiki/FTSE_100_Index\", 4, \"Ticker\"),\n",
    "}"
   ]
  },
  {
   "cell_type": "code",
   "execution_count": 127,
   "metadata": {},
   "outputs": [
    {
     "name": "stdout",
     "output_type": "stream",
     "text": [
      "sp500: 503 tickers found.\n"
     ]
    }
   ],
   "source": [
    "list_tickers = []\n",
    "\n",
    "for key, (url, table_index, ticker_column) in url_dict.items():\n",
    "    if key in ['sp500']: #'russell1000', 'ftse100']:\n",
    "        try:\n",
    "            df = pd.read_html(url)[table_index]\n",
    "            tickers = df[ticker_column].tolist()\n",
    "            list_tickers += tickers\n",
    "            print(f\"{key}: {len(tickers)} tickers found.\")\n",
    "        except Exception as e:\n",
    "            print(f\"Error processing {key}: {e}\")"
   ]
  },
  {
   "cell_type": "code",
   "execution_count": 128,
   "metadata": {},
   "outputs": [
    {
     "name": "stdout",
     "output_type": "stream",
     "text": [
      "Processing file: 20211201.csv.gz\n",
      "Processing file: 20211202.csv.gz\n",
      "Processing file: 20211203.csv.gz\n",
      "Processing file: 20211206.csv.gz\n",
      "Processing file: 20211207.csv.gz\n",
      "Processing file: 20211208.csv.gz\n",
      "Processing file: 20211209.csv.gz\n",
      "Processing file: 20211210.csv.gz\n",
      "Processing file: 20211213.csv.gz\n",
      "Processing file: 20211214.csv.gz\n",
      "Processing file: 20211215.csv.gz\n",
      "Processing file: 20211216.csv.gz\n",
      "Processing file: 20211217.csv.gz\n",
      "Processing file: 20211220.csv.gz\n",
      "Processing file: 20211221.csv.gz\n",
      "Processing file: 20211222.csv.gz\n",
      "Processing file: 20211223.csv.gz\n",
      "Processing file: 20211227.csv.gz\n",
      "Processing file: 20211228.csv.gz\n",
      "Processing file: 20211229.csv.gz\n",
      "Processing file: 20211230.csv.gz\n",
      "Processing file: 20211231.csv.gz\n"
     ]
    }
   ],
   "source": [
    "df_list = []\n",
    "\n",
    "for path in list_paths:\n",
    "    print(f\"Processing file: {path.split('/')[-1]}\")\n",
    "    df = pd.read_csv(path, compression='gzip')\n",
    "    df['SYMBOL'] = df['SYMBOL'].str.upper()\n",
    "    df = df[df['SYMBOL'].isin(list_tickers)]\n",
    "    df_list.append(df)"
   ]
  },
  {
   "cell_type": "code",
   "execution_count": 154,
   "metadata": {},
   "outputs": [
    {
     "data": {
      "text/html": [
       "<div>\n",
       "<style scoped>\n",
       "    .dataframe tbody tr th:only-of-type {\n",
       "        vertical-align: middle;\n",
       "    }\n",
       "\n",
       "    .dataframe tbody tr th {\n",
       "        vertical-align: top;\n",
       "    }\n",
       "\n",
       "    .dataframe thead th {\n",
       "        text-align: right;\n",
       "    }\n",
       "</style>\n",
       "<table border=\"1\" class=\"dataframe\">\n",
       "  <thead>\n",
       "    <tr style=\"text-align: right;\">\n",
       "      <th></th>\n",
       "      <th>DATE</th>\n",
       "      <th>SYMBOL</th>\n",
       "      <th>TIME</th>\n",
       "      <th>MID_OPEN</th>\n",
       "      <th>DATE_FORMATTED</th>\n",
       "      <th>DATETIME</th>\n",
       "    </tr>\n",
       "  </thead>\n",
       "  <tbody>\n",
       "    <tr>\n",
       "      <th>0</th>\n",
       "      <td>20211201</td>\n",
       "      <td>A</td>\n",
       "      <td>09:30:00</td>\n",
       "      <td>152.190</td>\n",
       "      <td>2021-12-01</td>\n",
       "      <td>2021-12-01 09:30:00</td>\n",
       "    </tr>\n",
       "    <tr>\n",
       "      <th>1</th>\n",
       "      <td>20211201</td>\n",
       "      <td>A</td>\n",
       "      <td>09:40:00</td>\n",
       "      <td>150.490</td>\n",
       "      <td>2021-12-01</td>\n",
       "      <td>2021-12-01 09:40:00</td>\n",
       "    </tr>\n",
       "    <tr>\n",
       "      <th>2</th>\n",
       "      <td>20211201</td>\n",
       "      <td>A</td>\n",
       "      <td>09:50:00</td>\n",
       "      <td>151.475</td>\n",
       "      <td>2021-12-01</td>\n",
       "      <td>2021-12-01 09:50:00</td>\n",
       "    </tr>\n",
       "    <tr>\n",
       "      <th>3</th>\n",
       "      <td>20211201</td>\n",
       "      <td>A</td>\n",
       "      <td>10:00:00</td>\n",
       "      <td>150.510</td>\n",
       "      <td>2021-12-01</td>\n",
       "      <td>2021-12-01 10:00:00</td>\n",
       "    </tr>\n",
       "    <tr>\n",
       "      <th>4</th>\n",
       "      <td>20211201</td>\n",
       "      <td>A</td>\n",
       "      <td>10:10:00</td>\n",
       "      <td>151.960</td>\n",
       "      <td>2021-12-01</td>\n",
       "      <td>2021-12-01 10:10:00</td>\n",
       "    </tr>\n",
       "  </tbody>\n",
       "</table>\n",
       "</div>"
      ],
      "text/plain": [
       "       DATE SYMBOL      TIME  MID_OPEN DATE_FORMATTED            DATETIME\n",
       "0  20211201      A  09:30:00   152.190     2021-12-01 2021-12-01 09:30:00\n",
       "1  20211201      A  09:40:00   150.490     2021-12-01 2021-12-01 09:40:00\n",
       "2  20211201      A  09:50:00   151.475     2021-12-01 2021-12-01 09:50:00\n",
       "3  20211201      A  10:00:00   150.510     2021-12-01 2021-12-01 10:00:00\n",
       "4  20211201      A  10:10:00   151.960     2021-12-01 2021-12-01 10:10:00"
      ]
     },
     "execution_count": 154,
     "metadata": {},
     "output_type": "execute_result"
    }
   ],
   "source": [
    "df = pd.concat(df_list, ignore_index=True)\n",
    "\n",
    "df = df.drop(columns=['ALL_EX', 'SUM_DELTA'])\n",
    "\n",
    "df['DATE_FORMATTED'] = df['DATE'].apply(lambda x: str(x)[:4] + '-' + str(x)[4:6] + '-' + str(x)[6:8])\n",
    "df['DATE_FORMATTED'] = pd.to_datetime(df['DATE_FORMATTED'], format='%Y-%m-%d')\n",
    "df['DATETIME'] = pd.to_datetime(df['DATE_FORMATTED'].astype(str) + ' ' + df['TIME'])\n",
    "# df = df.drop(columns=['DATE', 'TIME'])\n",
    "\n",
    "df = df.sort_values(by=['SYMBOL', 'DATETIME'])\n",
    "\n",
    "df.head()\n"
   ]
  },
  {
   "cell_type": "markdown",
   "metadata": {},
   "source": [
    "## Building the features"
   ]
  },
  {
   "cell_type": "markdown",
   "metadata": {},
   "source": [
    "## Plotting / Debugging"
   ]
  },
  {
   "cell_type": "code",
   "execution_count": 148,
   "metadata": {},
   "outputs": [
    {
     "data": {
      "text/plain": [
       "<Axes: xlabel='DATETIME'>"
      ]
     },
     "execution_count": 148,
     "metadata": {},
     "output_type": "execute_result"
    },
    {
     "data": {
      "image/png": "[encoded data removed]",
      "text/plain": [
       "<Figure size 640x480 with 1 Axes>"
      ]
     },
     "metadata": {},
     "output_type": "display_data"
    }
   ],
   "source": [
    "import matplotlib.pyplot as plt\n",
    "\n",
    "pd.set_option('display.max_rows', 500)\n",
    "\n",
    "df[df['SYMBOL'] == 'MSFT']['MID_OPEN'].plot()"
   ]
  },
  {
   "cell_type": "code",
   "execution_count": null,
   "metadata": {},
   "outputs": [],
   "source": []
  }
 ],
 "metadata": {
  "kernelspec": {
   "display_name": "investmentepfl",
   "language": "python",
   "name": "python3"
  },
  "language_info": {
   "codemirror_mode": {
    "name": "ipython",
    "version": 3
   },
   "file_extension": ".py",
   "mimetype": "text/x-python",
   "name": "python",
   "nbconvert_exporter": "python",
   "pygments_lexer": "ipython3",
   "version": "3.11.11"
  }
 },
 "nbformat": 4,
 "nbformat_minor": 2
}
